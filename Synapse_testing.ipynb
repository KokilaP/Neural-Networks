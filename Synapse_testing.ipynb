{
 "cells": [
  {
   "cell_type": "code",
   "execution_count": 15,
   "metadata": {},
   "outputs": [],
   "source": [
    "from brian2 import *\n",
    "import numpy as np"
   ]
  },
  {
   "cell_type": "code",
   "execution_count": 16,
   "metadata": {},
   "outputs": [],
   "source": [
    "N = 1\n",
    "v_r = -70*mV # reset voltage\n",
    "v_th = -55*mV  # threshold voltage\n",
    "E_l = -90*mV\n",
    "dia = 20*um\n",
    "length = 20*um\n",
    "SA = (2*pi*(dia/2)*length) # units are um2\n",
    "gL = 1*psiemens/um2 * SA # units are psiemens\n",
    "C_mem = 10e-6*farad/cm2 * SA # units are farad\n",
    "E_ex = 0*mV\n",
    "E_i = -80*mV \n",
    "v_c = 0*mV\n",
    "I_c = 1000*pamp # same as I_ext, units pamp\n",
    "tau_ge = 2*ms\n",
    "tau_gi_c = 6.8*ms # units of ms\n",
    "integ_method = 'heun'\n",
    "run_time = 100*ms\n",
    "\n",
    "model_0 = '''\n",
    "dv/dt = (1/C_mem)*(ge*(v - E_ex) + gi*(v - E_i) + gL*(v - E_l) + I) : volt (unless refractory)\n",
    "dge/dt = -ge/tau_ge : siemens\n",
    "dgi/dt = -gi/tau_gi : siemens\n",
    "I : ampere\n",
    "tau_gi : second\n",
    "'''\n",
    "\n",
    "model_1 = '''\n",
    "dv/dt = (1/C_mem)*(gL*(v - E_l) + I) : volt (unless refractory)\n",
    "I : ampere\n",
    "'''\n",
    "\n",
    "model_2 = '''\n",
    "dv/dt = (1/C_mem)*(ge*(v - E_ex) + gL*(v - E_l) + I) : volt (unless refractory)\n",
    "ge: siemens\n",
    "I : ampere\n",
    "'''"
   ]
  },
  {
   "cell_type": "code",
   "execution_count": null,
   "metadata": {},
   "outputs": [],
   "source": [
    "G1 = NeuronGroup(N, model_1, threshold='v>v_th', reset='v=v_r', refractory=10*ms, method=integ_method)\n",
    "G1.I = I_c\n",
    "statemon1 = StateMonitor(G1, variables='v',record=0)\n",
    "\n",
    "G2 = NeuronGroup(N, model_1, threshold='v>v_th', reset='v=v_r', refractory=10*ms, method=integ_method)\n",
    "G2.I = I_c\n",
    "statemon2 = StateMonitor(G2, variables='v',record=0)\n",
    "\n",
    "# if there is no synaptic delay both neurons spike at the same time and because neuron 2 is undergoing a refractory period\n",
    "# at that instant, the synaptic weight from neuron 1 will not change neuron2's voltage\n",
    "# having poisson input would also fix it because it makes neurons spike at different times\n",
    "S0 = Synapses(G1, G2, 'w : volt', on_pre='v_post += w',delay=50*ms)\n",
    "S0.connect(i=0, j=0)\n",
    "# positive weight for an excitatory connection, -ve weight for inhibitory\n",
    "S0.w = -0.5*mV\n",
    "\n",
    "run(run_time)"
   ]
  },
  {
   "cell_type": "code",
   "execution_count": 17,
   "metadata": {},
   "outputs": [],
   "source": [
    "G1 = NeuronGroup(N, model_0, threshold='v>v_th', reset='v=v_r', refractory=10*ms, method=integ_method)\n",
    "G1.I = I_c\n",
    "G1.tau_gi = tau_gi_c\n",
    "statemon1 = StateMonitor(G1, variables='v',record=0)\n",
    "\n",
    "G2 = NeuronGroup(N, model_0, threshold='v>v_th', reset='v=v_r', refractory=10*ms, method=integ_method)\n",
    "G2.I = I_c\n",
    "G2.tau_gi = tau_gi_c\n",
    "statemon2 = StateMonitor(G2, variables='v',record=0)\n",
    "\n",
    "# if there is no synaptic delay both neurons spike at the same time and because neuron 2 is undergoing a refractory period\n",
    "# at that instant, the synaptic weight from neuron 1 will not change neuron2's voltage\n",
    "# having poisson input would also fix it because it makes neurons spike at different times\n",
    "S0 = Synapses(G1, G2, 'w : volt', on_pre='v_post += w',delay=15*ms)\n",
    "S0.connect(i=0, j=0)\n",
    "# positive weight for an excitatory connection, -ve weight for inhibitory\n",
    "S0.w = 0.5*mV\n",
    "\n",
    "run(run_time)"
   ]
  },
  {
   "cell_type": "code",
   "execution_count": 18,
   "metadata": {},
   "outputs": [
    {
     "data": {
      "text/plain": [
       "[<matplotlib.lines.Line2D at 0xb7e1d30>]"
      ]
     },
     "execution_count": 18,
     "metadata": {},
     "output_type": "execute_result"
    },
    {
     "data": {
      "image/png": "[encoded data removed]",
      "text/plain": [
       "<matplotlib.figure.Figure at 0xc453860>"
      ]
     },
     "metadata": {},
     "output_type": "display_data"
    }
   ],
   "source": [
    "plot(statemon1.t,np.transpose(statemon1.v))"
   ]
  },
  {
   "cell_type": "code",
   "execution_count": 19,
   "metadata": {},
   "outputs": [
    {
     "data": {
      "text/plain": [
       "[<matplotlib.lines.Line2D at 0xd181550>]"
      ]
     },
     "execution_count": 19,
     "metadata": {},
     "output_type": "execute_result"
    },
    {
     "data": {
      "image/png": "[encoded data removed]",
      "text/plain": [
       "<matplotlib.figure.Figure at 0xd009a58>"
      ]
     },
     "metadata": {},
     "output_type": "display_data"
    }
   ],
   "source": [
    "plot(statemon2.t,np.transpose(statemon2.v))"
   ]
  },
  {
   "cell_type": "code",
   "execution_count": null,
   "metadata": {},
   "outputs": [],
   "source": [
    "# implementing conductance in the synapse equations\n",
    "# https://brian2.readthedocs.io/en/stable/user/synapses.html?highlight=synapses#summed-variables\n",
    "\n",
    "G3 = NeuronGroup(N, model_2, threshold='v>v_th', reset='v=v_r', refractory=10*ms, method=integ_method)\n",
    "G3.I = I_c\n",
    "statemon3 = StateMonitor(G3, variables='v',record=0)\n",
    "\n",
    "G4 = NeuronGroup(N, model_2, threshold='v>v_th', reset='v=v_r', refractory=10*ms, method=integ_method)\n",
    "G4.I = I_c\n",
    "statemon4 = StateMonitor(G4, variables='v',record=0)\n",
    "\n",
    "S3 = Synapses(G3, G4, \n",
    "              model ='''w : volt\n",
    "              dge_syn/dt = -ge_syn/tau_ge : siemens\n",
    "              ge_post=ge_syn: siemens''', on_pre='v_post += w',delay=50*ms)\n",
    "S3.connect(i=0, j=0)\n",
    "# positive weight for an excitatory connection, -ve weight for inhibitory\n",
    "S3.w = 0.5*volt"
   ]
  },
  {
   "cell_type": "code",
   "execution_count": null,
   "metadata": {},
   "outputs": [],
   "source": [
    "plot(statemon3.t,np.transpose(statemon3.v))"
   ]
  },
  {
   "cell_type": "code",
   "execution_count": null,
   "metadata": {},
   "outputs": [],
   "source": [
    "plot(statemon4.t,np.transpose(statemon4.v))"
   ]
  },
  {
   "cell_type": "code",
   "execution_count": null,
   "metadata": {},
   "outputs": [],
   "source": [
    "neurons = NeuronGroup(1, model='''dv/dt=(gtot-v)/(10*ms) : 1\n",
    "                                  gtot : 1''')\n",
    "S = Synapses(input, neurons,\n",
    "             model='''dg/dt=-a*g+b*x*(1-g) : 1\n",
    "                      gtot_post = g : 1  (summed)\n",
    "                      dx/dt=-c*x : 1\n",
    "                      w : 1 # synaptic weight''', on_pre='x+=w')"
   ]
  },
  {
   "cell_type": "code",
   "execution_count": null,
   "metadata": {},
   "outputs": [],
   "source": []
  }
 ],
 "metadata": {
  "kernelspec": {
   "display_name": "Python 2",
   "language": "python",
   "name": "python2"
  },
  "language_info": {
   "codemirror_mode": {
    "name": "ipython",
    "version": 2
   },
   "file_extension": ".py",
   "mimetype": "text/x-python",
   "name": "python",
   "nbconvert_exporter": "python",
   "pygments_lexer": "ipython2",
   "version": "2.7.15"
  }
 },
 "nbformat": 4,
 "nbformat_minor": 2
}
