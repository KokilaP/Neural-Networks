{
 "cells": [
  {
   "cell_type": "code",
   "execution_count": 8,
   "metadata": {},
   "outputs": [],
   "source": [
    "from brian2 import *\n",
    "import numpy as np"
   ]
  },
  {
   "cell_type": "code",
   "execution_count": 9,
   "metadata": {},
   "outputs": [],
   "source": [
    "N = 1\n",
    "v_r = 0*volt # reset voltage\n",
    "v_th = 1*volt  # threshold voltage\n",
    "E_l = -90*mV\n",
    "dia = 20*um\n",
    "length = 20*um\n",
    "SA = (2*pi*(dia/2)*length) # units are um2\n",
    "gL = 1*psiemens/um2 * SA # units are psiemens\n",
    "C_mem = 10e-6*farad/cm2 * SA # units are farad\n",
    "E_ex = 0*mV\n",
    "E_i = -80*mV \n",
    "v_c = 0*volt\n",
    "I_c = 1000*pamp # same as I_ext, units pamp\n",
    "tau_ge = 2*ms\n",
    "tau_gi = 6.8 # units of ms\n",
    "integ_method = 'heun'\n",
    "run_time = 500*ms\n",
    "\n",
    "model_0 = '''\n",
    "dv/dt = (1/C_mem)*(ge*(v - E_ex) + gi*(v - E_i) + gL*(v - E_l) + I) : volt (unless refractory)\n",
    "dge/dt = -ge/tau_ge : siemens\n",
    "dgi/dt = -gi/tau_gi : siemens\n",
    "I : ampere\n",
    "tau_gi : second\n",
    "'''\n",
    "\n",
    "model_1 = '''\n",
    "dv/dt = (1/C_mem)*(gL*(v - E_l) + I) : volt (unless refractory)\n",
    "I : ampere\n",
    "'''\n",
    "\n",
    "model_2 = '''\n",
    "dv/dt = (1/C_mem)*(ge*(v - E_ex) + gL*(v - E_l) + I) : volt (unless refractory)\n",
    "ge: siemens\n",
    "I : ampere\n",
    "'''"
   ]
  },
  {
   "cell_type": "code",
   "execution_count": null,
   "metadata": {},
   "outputs": [],
   "source": [
    "G1 = NeuronGroup(N, model_1, threshold='v>v_th', reset='v=v_r', refractory=10*ms, method=integ_method)\n",
    "G1.I = I_c\n",
    "statemon1 = StateMonitor(G1, variables='v',record=0)\n",
    "\n",
    "G2 = NeuronGroup(N, model_1, threshold='v>v_th', reset='v=v_r', refractory=10*ms, method=integ_method)\n",
    "G2.I = I_c\n",
    "statemon2 = StateMonitor(G2, variables='v',record=0)\n",
    "\n",
    "# if there is no synaptic delay both neurons spike at the same time and because neuron 2 is undergoing a refractory period\n",
    "# at that instant, the synaptic weight from neuron 1 will not change neuron2's voltage\n",
    "# having poisson input would also fix it because it makes neurons spike at different times\n",
    "S0 = Synapses(G1, G2, 'w : volt', on_pre='v_post += w',delay=50*ms)\n",
    "S0.connect(i=0, j=0)\n",
    "# positive weight for an excitatory connection, -ve weight for inhibitory\n",
    "S0.w = -0.5*volt\n",
    "\n",
    "# run(run_time)"
   ]
  },
  {
   "cell_type": "code",
   "execution_count": null,
   "metadata": {},
   "outputs": [],
   "source": [
    "plot(statemon1.t,np.transpose(statemon1.v))"
   ]
  },
  {
   "cell_type": "code",
   "execution_count": null,
   "metadata": {},
   "outputs": [],
   "source": [
    "plot(statemon2.t,np.transpose(statemon2.v))"
   ]
  },
  {
   "cell_type": "code",
   "execution_count": 10,
   "metadata": {},
   "outputs": [
    {
     "name": "stderr",
     "output_type": "stream",
     "text": [
      "ERROR:root:An unexpected error occurred while tokenizing input\n",
      "The following traceback may be corrupted or invalid\n",
      "The error message is: ('EOF in multi-line string', (1, 37))\n",
      "\n"
     ]
    },
    {
     "ename": "ValueError",
     "evalue": "\"ge_post\" cannot be used as a variable name, the \"_pre\" and \"_post\" suffixes are used to refer to pre- and post-synaptic variables in synapses.",
     "output_type": "error",
     "traceback": [
      "\u001b[1;31m---------------------------------------------------------------------------\u001b[0m",
      "\u001b[1;31mValueError\u001b[0m                                Traceback (most recent call last)",
      "\u001b[1;32m<ipython-input-10-591d04fd3311>\u001b[0m in \u001b[0;36m<module>\u001b[1;34m()\u001b[0m\n\u001b[0;32m     13\u001b[0m               model ='''w : volt\n\u001b[0;32m     14\u001b[0m               \u001b[0mdge_syn\u001b[0m\u001b[1;33m/\u001b[0m\u001b[0mdt\u001b[0m \u001b[1;33m=\u001b[0m \u001b[1;33m-\u001b[0m\u001b[0mge_syn\u001b[0m\u001b[1;33m/\u001b[0m\u001b[0mtau_ge\u001b[0m \u001b[1;33m:\u001b[0m \u001b[0msiemens\u001b[0m\u001b[1;33m\u001b[0m\u001b[0m\n\u001b[1;32m---> 15\u001b[1;33m               ge_post=ge_syn: siemens''', on_pre='v_post += w',delay=50*ms)\n\u001b[0m\u001b[0;32m     16\u001b[0m \u001b[0mS3\u001b[0m\u001b[1;33m.\u001b[0m\u001b[0mconnect\u001b[0m\u001b[1;33m(\u001b[0m\u001b[0mi\u001b[0m\u001b[1;33m=\u001b[0m\u001b[1;36m0\u001b[0m\u001b[1;33m,\u001b[0m \u001b[0mj\u001b[0m\u001b[1;33m=\u001b[0m\u001b[1;36m0\u001b[0m\u001b[1;33m)\u001b[0m\u001b[1;33m\u001b[0m\u001b[0m\n\u001b[0;32m     17\u001b[0m \u001b[1;31m# positive weight for an excitatory connection, -ve weight for inhibitory\u001b[0m\u001b[1;33m\u001b[0m\u001b[1;33m\u001b[0m\u001b[0m\n",
      "\u001b[1;32mC:\\Users\\kdilh\\Anaconda2\\lib\\site-packages\\brian2\\synapses\\synapses.pyc\u001b[0m in \u001b[0;36m__init__\u001b[1;34m(self, source, target, model, on_pre, pre, on_post, post, connect, delay, on_event, multisynaptic_index, namespace, dtype, codeobj_class, dt, clock, order, method, method_options, name)\u001b[0m\n\u001b[0;32m    746\u001b[0m         \u001b[0mmodel\u001b[0m\u001b[1;33m,\u001b[0m \u001b[0mconstant_over_dt\u001b[0m \u001b[1;33m=\u001b[0m \u001b[0mextract_constant_subexpressions\u001b[0m\u001b[1;33m(\u001b[0m\u001b[0mmodel\u001b[0m\u001b[1;33m)\u001b[0m\u001b[1;33m\u001b[0m\u001b[0m\n\u001b[0;32m    747\u001b[0m \u001b[1;33m\u001b[0m\u001b[0m\n\u001b[1;32m--> 748\u001b[1;33m         \u001b[0mself\u001b[0m\u001b[1;33m.\u001b[0m\u001b[0m_create_variables\u001b[0m\u001b[1;33m(\u001b[0m\u001b[0mmodel\u001b[0m\u001b[1;33m,\u001b[0m \u001b[0muser_dtype\u001b[0m\u001b[1;33m=\u001b[0m\u001b[0mdtype\u001b[0m\u001b[1;33m)\u001b[0m\u001b[1;33m\u001b[0m\u001b[0m\n\u001b[0m\u001b[0;32m    749\u001b[0m \u001b[1;33m\u001b[0m\u001b[0m\n\u001b[0;32m    750\u001b[0m         \u001b[1;31m# Separate the equations into event-driven equations,\u001b[0m\u001b[1;33m\u001b[0m\u001b[1;33m\u001b[0m\u001b[0m\n",
      "\u001b[1;32mC:\\Users\\kdilh\\Anaconda2\\lib\\site-packages\\brian2\\synapses\\synapses.pyc\u001b[0m in \u001b[0;36m_create_variables\u001b[1;34m(self, equations, user_dtype)\u001b[0m\n\u001b[0;32m   1111\u001b[0m                     \u001b[0mvarname\u001b[0m \u001b[1;33m=\u001b[0m \u001b[1;34m'_summed_'\u001b[0m\u001b[1;33m+\u001b[0m\u001b[0meq\u001b[0m\u001b[1;33m.\u001b[0m\u001b[0mvarname\u001b[0m\u001b[1;33m\u001b[0m\u001b[0m\n\u001b[0;32m   1112\u001b[0m                 \u001b[1;32melse\u001b[0m\u001b[1;33m:\u001b[0m\u001b[1;33m\u001b[0m\u001b[0m\n\u001b[1;32m-> 1113\u001b[1;33m                     \u001b[0mcheck_identifier_pre_post\u001b[0m\u001b[1;33m(\u001b[0m\u001b[0meq\u001b[0m\u001b[1;33m.\u001b[0m\u001b[0mvarname\u001b[0m\u001b[1;33m)\u001b[0m\u001b[1;33m\u001b[0m\u001b[0m\n\u001b[0m\u001b[0;32m   1114\u001b[0m                     \u001b[0mvarname\u001b[0m \u001b[1;33m=\u001b[0m \u001b[0meq\u001b[0m\u001b[1;33m.\u001b[0m\u001b[0mvarname\u001b[0m\u001b[1;33m\u001b[0m\u001b[0m\n\u001b[0;32m   1115\u001b[0m                 self.variables.add_subexpression(varname, dimensions=eq.dim,\n",
      "\u001b[1;32mC:\\Users\\kdilh\\Anaconda2\\lib\\site-packages\\brian2\\groups\\neurongroup.pyc\u001b[0m in \u001b[0;36mcheck_identifier_pre_post\u001b[1;34m(identifier)\u001b[0m\n\u001b[0;32m     86\u001b[0m         raise ValueError('\"%s\" cannot be used as a variable name, the \"_pre\" '\n\u001b[0;32m     87\u001b[0m                          \u001b[1;34m'and \"_post\" suffixes are used to refer to pre- and '\u001b[0m\u001b[1;33m\u001b[0m\u001b[0m\n\u001b[1;32m---> 88\u001b[1;33m                          'post-synaptic variables in synapses.' % identifier)\n\u001b[0m\u001b[0;32m     89\u001b[0m \u001b[1;33m\u001b[0m\u001b[0m\n\u001b[0;32m     90\u001b[0m \u001b[1;33m\u001b[0m\u001b[0m\n",
      "\u001b[1;31mValueError\u001b[0m: \"ge_post\" cannot be used as a variable name, the \"_pre\" and \"_post\" suffixes are used to refer to pre- and post-synaptic variables in synapses."
     ]
    }
   ],
   "source": [
    "# implementing conductance in the synapse equations\n",
    "# https://brian2.readthedocs.io/en/stable/user/synapses.html?highlight=synapses#summed-variables\n",
    "\n",
    "G3 = NeuronGroup(N, model_2, threshold='v>v_th', reset='v=v_r', refractory=10*ms, method=integ_method)\n",
    "G3.I = I_c\n",
    "statemon3 = StateMonitor(G3, variables='v',record=0)\n",
    "\n",
    "G4 = NeuronGroup(N, model_2, threshold='v>v_th', reset='v=v_r', refractory=10*ms, method=integ_method)\n",
    "G4.I = I_c\n",
    "statemon4 = StateMonitor(G4, variables='v',record=0)\n",
    "\n",
    "S3 = Synapses(G3, G4, \n",
    "              model ='''w : volt\n",
    "              dge_syn/dt = -ge_syn/tau_ge : siemens\n",
    "              ge_post=ge_syn: siemens''', on_pre='v_post += w',delay=50*ms)\n",
    "S3.connect(i=0, j=0)\n",
    "# positive weight for an excitatory connection, -ve weight for inhibitory\n",
    "S3.w = 0.5*volt"
   ]
  },
  {
   "cell_type": "code",
   "execution_count": null,
   "metadata": {},
   "outputs": [],
   "source": [
    "plot(statemon3.t,np.transpose(statemon3.v))"
   ]
  },
  {
   "cell_type": "code",
   "execution_count": null,
   "metadata": {},
   "outputs": [],
   "source": [
    "plot(statemon4.t,np.transpose(statemon4.v))"
   ]
  },
  {
   "cell_type": "code",
   "execution_count": 6,
   "metadata": {},
   "outputs": [
    {
     "ename": "AttributeError",
     "evalue": "'module' object has no attribute 'id'",
     "output_type": "error",
     "traceback": [
      "\u001b[1;31m---------------------------------------------------------------------------\u001b[0m",
      "\u001b[1;31mAttributeError\u001b[0m                            Traceback (most recent call last)",
      "\u001b[1;32m<ipython-input-6-6508d97bd866>\u001b[0m in \u001b[0;36m<module>\u001b[1;34m()\u001b[0m\n\u001b[0;32m      5\u001b[0m                       \u001b[0mgtot_post\u001b[0m \u001b[1;33m=\u001b[0m \u001b[0mg\u001b[0m \u001b[1;33m:\u001b[0m \u001b[1;36m1\u001b[0m  \u001b[1;33m(\u001b[0m\u001b[0msummed\u001b[0m\u001b[1;33m)\u001b[0m\u001b[1;33m\u001b[0m\u001b[0m\n\u001b[0;32m      6\u001b[0m                       \u001b[0mdx\u001b[0m\u001b[1;33m/\u001b[0m\u001b[0mdt\u001b[0m\u001b[1;33m=\u001b[0m\u001b[1;33m-\u001b[0m\u001b[0mc\u001b[0m\u001b[1;33m*\u001b[0m\u001b[0mx\u001b[0m \u001b[1;33m:\u001b[0m \u001b[1;36m1\u001b[0m\u001b[1;33m\u001b[0m\u001b[0m\n\u001b[1;32m----> 7\u001b[1;33m                       \u001b[0mw\u001b[0m \u001b[1;33m:\u001b[0m \u001b[1;36m1\u001b[0m \u001b[1;31m# synaptic weight''', on_pre='x+=w')\u001b[0m\u001b[1;33m\u001b[0m\u001b[0m\n\u001b[0m",
      "\u001b[1;32mC:\\Users\\kdilh\\Anaconda2\\lib\\site-packages\\brian2\\synapses\\synapses.pyc\u001b[0m in \u001b[0;36m__init__\u001b[1;34m(self, source, target, model, on_pre, pre, on_post, post, connect, delay, on_event, multisynaptic_index, namespace, dtype, codeobj_class, dt, clock, order, method, method_options, name)\u001b[0m\n\u001b[0;32m    700\u001b[0m \u001b[1;33m\u001b[0m\u001b[0m\n\u001b[0;32m    701\u001b[0m         \u001b[0mself\u001b[0m\u001b[1;33m.\u001b[0m\u001b[0msource\u001b[0m \u001b[1;33m=\u001b[0m \u001b[0msource\u001b[0m\u001b[1;33m\u001b[0m\u001b[0m\n\u001b[1;32m--> 702\u001b[1;33m         \u001b[0mself\u001b[0m\u001b[1;33m.\u001b[0m\u001b[0madd_dependency\u001b[0m\u001b[1;33m(\u001b[0m\u001b[0msource\u001b[0m\u001b[1;33m)\u001b[0m\u001b[1;33m\u001b[0m\u001b[0m\n\u001b[0m\u001b[0;32m    703\u001b[0m         \u001b[1;32mif\u001b[0m \u001b[0mtarget\u001b[0m \u001b[1;32mis\u001b[0m \u001b[0mNone\u001b[0m\u001b[1;33m:\u001b[0m\u001b[1;33m\u001b[0m\u001b[0m\n\u001b[0;32m    704\u001b[0m             \u001b[0mself\u001b[0m\u001b[1;33m.\u001b[0m\u001b[0mtarget\u001b[0m \u001b[1;33m=\u001b[0m \u001b[0mself\u001b[0m\u001b[1;33m.\u001b[0m\u001b[0msource\u001b[0m\u001b[1;33m\u001b[0m\u001b[0m\n",
      "\u001b[1;32mC:\\Users\\kdilh\\Anaconda2\\lib\\site-packages\\brian2\\core\\base.pyc\u001b[0m in \u001b[0;36madd_dependency\u001b[1;34m(self, obj)\u001b[0m\n\u001b[0;32m    159\u001b[0m             \u001b[0mself\u001b[0m\u001b[1;33m.\u001b[0m\u001b[0m_dependencies\u001b[0m\u001b[1;33m.\u001b[0m\u001b[0madd\u001b[0m\u001b[1;33m(\u001b[0m\u001b[0mobj\u001b[0m\u001b[1;33m.\u001b[0m\u001b[0msource\u001b[0m\u001b[1;33m.\u001b[0m\u001b[0mid\u001b[0m\u001b[1;33m)\u001b[0m\u001b[1;33m\u001b[0m\u001b[0m\n\u001b[0;32m    160\u001b[0m         \u001b[1;32melse\u001b[0m\u001b[1;33m:\u001b[0m\u001b[1;33m\u001b[0m\u001b[0m\n\u001b[1;32m--> 161\u001b[1;33m             \u001b[0mself\u001b[0m\u001b[1;33m.\u001b[0m\u001b[0m_dependencies\u001b[0m\u001b[1;33m.\u001b[0m\u001b[0madd\u001b[0m\u001b[1;33m(\u001b[0m\u001b[0mobj\u001b[0m\u001b[1;33m.\u001b[0m\u001b[0mid\u001b[0m\u001b[1;33m)\u001b[0m\u001b[1;33m\u001b[0m\u001b[0m\n\u001b[0m\u001b[0;32m    162\u001b[0m \u001b[1;33m\u001b[0m\u001b[0m\n\u001b[0;32m    163\u001b[0m     \u001b[1;32mdef\u001b[0m \u001b[0mbefore_run\u001b[0m\u001b[1;33m(\u001b[0m\u001b[0mself\u001b[0m\u001b[1;33m,\u001b[0m \u001b[0mrun_namespace\u001b[0m\u001b[1;33m)\u001b[0m\u001b[1;33m:\u001b[0m\u001b[1;33m\u001b[0m\u001b[0m\n",
      "\u001b[1;31mAttributeError\u001b[0m: 'module' object has no attribute 'id'"
     ]
    }
   ],
   "source": [
    "neurons = NeuronGroup(1, model='''dv/dt=(gtot-v)/(10*ms) : 1\n",
    "                                  gtot : 1''')\n",
    "S = Synapses(input, neurons,\n",
    "             model='''dg/dt=-a*g+b*x*(1-g) : 1\n",
    "                      gtot_post = g : 1  (summed)\n",
    "                      dx/dt=-c*x : 1\n",
    "                      w : 1 # synaptic weight''', on_pre='x+=w')"
   ]
  },
  {
   "cell_type": "code",
   "execution_count": null,
   "metadata": {},
   "outputs": [],
   "source": []
  }
 ],
 "metadata": {
  "kernelspec": {
   "display_name": "Python 2",
   "language": "python",
   "name": "python2"
  },
  "language_info": {
   "codemirror_mode": {
    "name": "ipython",
    "version": 2
   },
   "file_extension": ".py",
   "mimetype": "text/x-python",
   "name": "python",
   "nbconvert_exporter": "python",
   "pygments_lexer": "ipython2",
   "version": "2.7.15"
  }
 },
 "nbformat": 4,
 "nbformat_minor": 2
}
