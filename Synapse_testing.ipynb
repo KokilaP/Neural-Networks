{
 "cells": [
  {
   "cell_type": "code",
   "execution_count": 1,
   "metadata": {},
   "outputs": [],
   "source": [
    "from brian2 import *\n",
    "import numpy as np"
   ]
  },
  {
   "cell_type": "code",
   "execution_count": 2,
   "metadata": {},
   "outputs": [],
   "source": [
    "N = 1\n",
    "v_r = -70*mV # reset voltage\n",
    "v_th = -55*mV  # threshold voltage\n",
    "E_l = -90*mV\n",
    "dia = 20*um\n",
    "length = 20*um\n",
    "SA = (2*pi*(dia/2)*length) # units are um2\n",
    "gL = 1*psiemens/um2 * SA # units are psiemens\n",
    "g_II = 40*psiemens/um2 * SA # units are psiemens...becomes 50 psiemens\n",
    "g_EE = 40*psiemens/um2 * SA # units are psiemens...becomes 50 psiemens\n",
    "we = 5*nS  # excitatory synaptic weight\n",
    "wi = 15*nS # inhibitory synaptic weight\n",
    "# g_EI = 24*psiemens/um2 * SA # units are psiemens\n",
    "# g_IE = 8*psiemens/um2 * SA # units are psiemens\n",
    "C_mem = 10e-6*farad/cm2 * SA # units are farad\n",
    "E_ex = 0*mV\n",
    "E_i = -80*mV \n",
    "v_c = 0*mV\n",
    "I_c = 1000*pamp # same as I_ext, units pamp\n",
    "tau_ge = 20*ms\n",
    "tau_gi_c = 6.8*ms # units of ms\n",
    "integ_method = 'heun'\n",
    "run_time = 100*ms\n",
    "\n",
    "model_0 = '''\n",
    "dv/dt = (1/C_mem)*(ge*(v - E_ex) + gi*(v - E_i) + gL*(v - E_l) + I) : volt (unless refractory)\n",
    "dge/dt = -ge/tau_ge : siemens\n",
    "dgi/dt = -gi/tau_gi : siemens\n",
    "I : ampere\n",
    "tau_gi : second\n",
    "'''\n",
    "\n",
    "model_1 = '''\n",
    "dv/dt = (1/C_mem)*(gL*(v - E_l) + I) : volt (unless refractory)\n",
    "dge/dt = -ge/tau_ge : siemens\n",
    "I : ampere\n",
    "'''\n",
    "\n",
    "model_2 = '''\n",
    "dv/dt = (1/C_mem)*(ge*(v - E_ex) + gL*(v - E_l) + I) : volt (unless refractory)\n",
    "ge: siemens\n",
    "I : ampere\n",
    "'''"
   ]
  },
  {
   "cell_type": "code",
   "execution_count": 3,
   "metadata": {},
   "outputs": [
    {
     "name": "stderr",
     "output_type": "stream",
     "text": [
      "WARNING    neurongroup_1's variable 'gi' has NaN, very large values, or encountered an error in numerical integration. This is usually a sign that an unstable or invalid integration method was chosen. [brian2.groups.group.invalid_values]\n"
     ]
    }
   ],
   "source": [
    "# implementing conductance in the synapse equations\n",
    "# https://brian2.readthedocs.io/en/stable/user/synapses.html?highlight=synapses#summed-variables\n",
    "start_scope()\n",
    "G3 = NeuronGroup(N, model_0, threshold='v>v_th', reset='v=v_r', refractory=10*ms, method=integ_method)\n",
    "G3.I = np.random.normal(I_c,1,1)*1000*pamp\n",
    "G3.ge = g_EE\n",
    "G3.gi = g_II\n",
    "G3.tau_gi = np.random.normal(tau_gi_c, 1,1)*ms\n",
    "G3.v = v_c\n",
    "statemon3 = StateMonitor(G3, variables='v',record=0)\n",
    "spikemon3 = SpikeMonitor(G3,variables='v')\n",
    "\n",
    "G4 = NeuronGroup(N, model_0, threshold='v>v_th', reset='v=v_r', refractory=10*ms, method=integ_method)\n",
    "G4.I = np.random.normal(I_c,1,1)*pamp\n",
    "G4.ge = g_EE\n",
    "G4.gi = g_II\n",
    "G4.tau_gi = np.random.normal(tau_gi_c, 1,1)/2*ms\n",
    "G4.v = v_c\n",
    "statemon4 = StateMonitor(G4, variables=['v','ge','gi'],record=0)\n",
    "spikemon4 = SpikeMonitor(G4,variables='v')\n",
    "\n",
    "S3 = Synapses(G3, G4, model ='''w : volt''', on_pre='''v_post += w\n",
    "              ge+=we\n",
    "              gi+=wi''')\n",
    "S3.connect(i=0, j=0)\n",
    "# positive weight for an excitatory connection, -ve weight for inhibitory\n",
    "S3.w = 0.5*volt\n",
    "\n",
    "run(run_time)"
   ]
  },
  {
   "cell_type": "code",
   "execution_count": 4,
   "metadata": {},
   "outputs": [
    {
     "data": {
      "text/plain": [
       "[<matplotlib.lines.Line2D at 0xb7bb4a8>]"
      ]
     },
     "execution_count": 4,
     "metadata": {},
     "output_type": "execute_result"
    },
    {
     "data": {
      "image/png": "[encoded data removed]",
      "text/plain": [
       "<matplotlib.figure.Figure at 0xb145748>"
      ]
     },
     "metadata": {},
     "output_type": "display_data"
    }
   ],
   "source": [
    "plot(statemon3.t,np.transpose(statemon3.v))"
   ]
  },
  {
   "cell_type": "code",
   "execution_count": 5,
   "metadata": {},
   "outputs": [
    {
     "data": {
      "text/plain": [
       "[<matplotlib.lines.Line2D at 0xba5fa90>]"
      ]
     },
     "execution_count": 5,
     "metadata": {},
     "output_type": "execute_result"
    },
    {
     "data": {
      "image/png": "[encoded data removed]",
      "text/plain": [
       "<matplotlib.figure.Figure at 0xb88a940>"
      ]
     },
     "metadata": {},
     "output_type": "display_data"
    }
   ],
   "source": [
    "plot(statemon4.t,np.transpose(statemon4.v))"
   ]
  },
  {
   "cell_type": "code",
   "execution_count": 6,
   "metadata": {},
   "outputs": [
    {
     "data": {
      "text/plain": [
       "[<matplotlib.lines.Line2D at 0xbacf0b8>]"
      ]
     },
     "execution_count": 6,
     "metadata": {},
     "output_type": "execute_result"
    },
    {
     "data": {
      "image/png": "[encoded data removed]",
      "text/plain": [
       "<matplotlib.figure.Figure at 0xba21978>"
      ]
     },
     "metadata": {},
     "output_type": "display_data"
    }
   ],
   "source": [
    "plot(statemon4.t,np.transpose(statemon4.ge))"
   ]
  },
  {
   "cell_type": "code",
   "execution_count": 7,
   "metadata": {},
   "outputs": [
    {
     "data": {
      "text/plain": [
       "[<matplotlib.lines.Line2D at 0xbeb0550>]"
      ]
     },
     "execution_count": 7,
     "metadata": {},
     "output_type": "execute_result"
    },
    {
     "data": {
      "image/png": "[encoded data removed]",
      "text/plain": [
       "<matplotlib.figure.Figure at 0xbd5d470>"
      ]
     },
     "metadata": {},
     "output_type": "display_data"
    }
   ],
   "source": [
    "plot(statemon4.t,np.transpose(statemon4.gi))"
   ]
  },
  {
   "cell_type": "code",
   "execution_count": 8,
   "metadata": {},
   "outputs": [
    {
     "data": {
      "text/html": [
       "\n",
       "        <table>\n",
       "        <thead>\n",
       "        <tr>\n",
       "            <th style=\"text-align: center;\">object</th>\n",
       "            <th style=\"text-align: center;\">part of</th>\n",
       "            <th style=\"text-align: center;\">Clock dt</th>\n",
       "            <th style=\"text-align: center;\">when</th>\n",
       "            <th style=\"text-align: center;\">order</th>\n",
       "            <th style=\"text-align: center;\">active</th>\n",
       "        </tr>\n",
       "        </thead>\n",
       "        <tbody>\n",
       "        <tr>\n",
       "            <td style=\"text-align: left;\"><b>statemonitor</b> (<em>StateMonitor</em>)</td>\n",
       "            <td style=\"text-align: left;\">statemonitor (<em>StateMonitor</em>)</td>\n",
       "            <td style=\"text-align: left;\">100. us (every step)</td>\n",
       "            <td style=\"text-align: left;\">start</td>\n",
       "            <td style=\"text-align: right;\">0</td>\n",
       "            <td style=\"text-align: center;\">yes</td>\n",
       "        </tr>\n",
       "        \n",
       "        <tr>\n",
       "            <td style=\"text-align: left;\"><b>statemonitor_1</b> (<em>StateMonitor</em>)</td>\n",
       "            <td style=\"text-align: left;\">statemonitor_1 (<em>StateMonitor</em>)</td>\n",
       "            <td style=\"text-align: left;\">100. us (every step)</td>\n",
       "            <td style=\"text-align: left;\">start</td>\n",
       "            <td style=\"text-align: right;\">0</td>\n",
       "            <td style=\"text-align: center;\">yes</td>\n",
       "        </tr>\n",
       "        \n",
       "        <tr>\n",
       "            <td style=\"text-align: left;\"><b>neurongroup_1_stateupdater</b> (<em>StateUpdater</em>)</td>\n",
       "            <td style=\"text-align: left;\">neurongroup_1 (<em>NeuronGroup</em>)</td>\n",
       "            <td style=\"text-align: left;\">100. us (every step)</td>\n",
       "            <td style=\"text-align: left;\">groups</td>\n",
       "            <td style=\"text-align: right;\">0</td>\n",
       "            <td style=\"text-align: center;\">yes</td>\n",
       "        </tr>\n",
       "        \n",
       "        <tr>\n",
       "            <td style=\"text-align: left;\"><b>neurongroup_stateupdater</b> (<em>StateUpdater</em>)</td>\n",
       "            <td style=\"text-align: left;\">neurongroup (<em>NeuronGroup</em>)</td>\n",
       "            <td style=\"text-align: left;\">100. us (every step)</td>\n",
       "            <td style=\"text-align: left;\">groups</td>\n",
       "            <td style=\"text-align: right;\">0</td>\n",
       "            <td style=\"text-align: center;\">yes</td>\n",
       "        </tr>\n",
       "        \n",
       "        <tr>\n",
       "            <td style=\"text-align: left;\"><b>neurongroup_1_thresholder</b> (<em>Thresholder</em>)</td>\n",
       "            <td style=\"text-align: left;\">neurongroup_1 (<em>NeuronGroup</em>)</td>\n",
       "            <td style=\"text-align: left;\">100. us (every step)</td>\n",
       "            <td style=\"text-align: left;\">thresholds</td>\n",
       "            <td style=\"text-align: right;\">0</td>\n",
       "            <td style=\"text-align: center;\">yes</td>\n",
       "        </tr>\n",
       "        \n",
       "        <tr>\n",
       "            <td style=\"text-align: left;\"><b>neurongroup_thresholder</b> (<em>Thresholder</em>)</td>\n",
       "            <td style=\"text-align: left;\">neurongroup (<em>NeuronGroup</em>)</td>\n",
       "            <td style=\"text-align: left;\">100. us (every step)</td>\n",
       "            <td style=\"text-align: left;\">thresholds</td>\n",
       "            <td style=\"text-align: right;\">0</td>\n",
       "            <td style=\"text-align: center;\">yes</td>\n",
       "        </tr>\n",
       "        \n",
       "        <tr>\n",
       "            <td style=\"text-align: left;\"><b>spikemonitor</b> (<em>SpikeMonitor</em>)</td>\n",
       "            <td style=\"text-align: left;\">spikemonitor (<em>SpikeMonitor</em>)</td>\n",
       "            <td style=\"text-align: left;\">100. us (every step)</td>\n",
       "            <td style=\"text-align: left;\">thresholds</td>\n",
       "            <td style=\"text-align: right;\">1</td>\n",
       "            <td style=\"text-align: center;\">yes</td>\n",
       "        </tr>\n",
       "        \n",
       "        <tr>\n",
       "            <td style=\"text-align: left;\"><b>spikemonitor_1</b> (<em>SpikeMonitor</em>)</td>\n",
       "            <td style=\"text-align: left;\">spikemonitor_1 (<em>SpikeMonitor</em>)</td>\n",
       "            <td style=\"text-align: left;\">100. us (every step)</td>\n",
       "            <td style=\"text-align: left;\">thresholds</td>\n",
       "            <td style=\"text-align: right;\">1</td>\n",
       "            <td style=\"text-align: center;\">yes</td>\n",
       "        </tr>\n",
       "        \n",
       "        <tr>\n",
       "            <td style=\"text-align: left;\"><b>synapses_pre</b> (<em>SynapticPathway</em>)</td>\n",
       "            <td style=\"text-align: left;\">synapses (<em>Synapses</em>)</td>\n",
       "            <td style=\"text-align: left;\">100. us (every step)</td>\n",
       "            <td style=\"text-align: left;\">synapses</td>\n",
       "            <td style=\"text-align: right;\">-1</td>\n",
       "            <td style=\"text-align: center;\">yes</td>\n",
       "        </tr>\n",
       "        \n",
       "        <tr>\n",
       "            <td style=\"text-align: left;\"><b>neurongroup_1_resetter</b> (<em>Resetter</em>)</td>\n",
       "            <td style=\"text-align: left;\">neurongroup_1 (<em>NeuronGroup</em>)</td>\n",
       "            <td style=\"text-align: left;\">100. us (every step)</td>\n",
       "            <td style=\"text-align: left;\">resets</td>\n",
       "            <td style=\"text-align: right;\">0</td>\n",
       "            <td style=\"text-align: center;\">yes</td>\n",
       "        </tr>\n",
       "        \n",
       "        <tr>\n",
       "            <td style=\"text-align: left;\"><b>neurongroup_resetter</b> (<em>Resetter</em>)</td>\n",
       "            <td style=\"text-align: left;\">neurongroup (<em>NeuronGroup</em>)</td>\n",
       "            <td style=\"text-align: left;\">100. us (every step)</td>\n",
       "            <td style=\"text-align: left;\">resets</td>\n",
       "            <td style=\"text-align: right;\">0</td>\n",
       "            <td style=\"text-align: center;\">yes</td>\n",
       "        </tr>\n",
       "        \n",
       "        </tbody>\n",
       "        </table>\n",
       "        "
      ],
      "text/plain": [
       "                 object                   |            part of            |       Clock dt       |    when    | order | active\n",
       "------------------------------------------+-------------------------------+----------------------+------------+-------+-------\n",
       "statemonitor (StateMonitor)               | statemonitor (StateMonitor)   | 100. us (every step) | start      |     0 |  yes  \n",
       "statemonitor_1 (StateMonitor)             | statemonitor_1 (StateMonitor) | 100. us (every step) | start      |     0 |  yes  \n",
       "neurongroup_1_stateupdater (StateUpdater) | neurongroup_1 (NeuronGroup)   | 100. us (every step) | groups     |     0 |  yes  \n",
       "neurongroup_stateupdater (StateUpdater)   | neurongroup (NeuronGroup)     | 100. us (every step) | groups     |     0 |  yes  \n",
       "neurongroup_1_thresholder (Thresholder)   | neurongroup_1 (NeuronGroup)   | 100. us (every step) | thresholds |     0 |  yes  \n",
       "neurongroup_thresholder (Thresholder)     | neurongroup (NeuronGroup)     | 100. us (every step) | thresholds |     0 |  yes  \n",
       "spikemonitor (SpikeMonitor)               | spikemonitor (SpikeMonitor)   | 100. us (every step) | thresholds |     1 |  yes  \n",
       "spikemonitor_1 (SpikeMonitor)             | spikemonitor_1 (SpikeMonitor) | 100. us (every step) | thresholds |     1 |  yes  \n",
       "synapses_pre (SynapticPathway)            | synapses (Synapses)           | 100. us (every step) | synapses   |    -1 |  yes  \n",
       "neurongroup_1_resetter (Resetter)         | neurongroup_1 (NeuronGroup)   | 100. us (every step) | resets     |     0 |  yes  \n",
       "neurongroup_resetter (Resetter)           | neurongroup (NeuronGroup)     | 100. us (every step) | resets     |     0 |  yes  "
      ]
     },
     "execution_count": 8,
     "metadata": {},
     "output_type": "execute_result"
    }
   ],
   "source": [
    "scheduling_summary()"
   ]
  },
  {
   "cell_type": "code",
   "execution_count": 9,
   "metadata": {},
   "outputs": [
    {
     "data": {
      "text/plain": [
       "{0: array([  0.,  10.,  20.,  30.,  40.,  50.,  60.,  70.,  80.,  90.]) * msecond}"
      ]
     },
     "execution_count": 9,
     "metadata": {},
     "output_type": "execute_result"
    }
   ],
   "source": [
    "spikemon3.spike_trains()"
   ]
  },
  {
   "cell_type": "code",
   "execution_count": 10,
   "metadata": {},
   "outputs": [
    {
     "data": {
      "text/plain": [
       "{0: array([  0.,  10.,  20.,  30.,  40.,  50.,  60.,  70.,  80.,  90.]) * msecond}"
      ]
     },
     "execution_count": 10,
     "metadata": {},
     "output_type": "execute_result"
    }
   ],
   "source": [
    "spikemon4.spike_trains()"
   ]
  },
  {
   "cell_type": "code",
   "execution_count": null,
   "metadata": {},
   "outputs": [],
   "source": []
  }
 ],
 "metadata": {
  "kernelspec": {
   "display_name": "Python 2",
   "language": "python",
   "name": "python2"
  },
  "language_info": {
   "codemirror_mode": {
    "name": "ipython",
    "version": 2
   },
   "file_extension": ".py",
   "mimetype": "text/x-python",
   "name": "python",
   "nbconvert_exporter": "python",
   "pygments_lexer": "ipython2",
   "version": "2.7.15"
  }
 },
 "nbformat": 4,
 "nbformat_minor": 2
}
