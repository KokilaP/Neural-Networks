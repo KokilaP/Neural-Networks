{
 "cells": [
  {
   "cell_type": "code",
   "execution_count": 1,
   "metadata": {},
   "outputs": [],
   "source": [
    "from brian2 import *\n",
    "import numpy as np"
   ]
  },
  {
   "cell_type": "code",
   "execution_count": 2,
   "metadata": {},
   "outputs": [],
   "source": [
    "N = 1\n",
    "v_r = -70*mV # reset voltage\n",
    "v_th = -55*mV  # threshold voltage\n",
    "E_l = -90*mV\n",
    "dia = 20*um\n",
    "length = 20*um\n",
    "SA = (2*pi*(dia/2)*length) # units are um2\n",
    "gL = 1*psiemens/um2 * SA # units are psiemens\n",
    "C_mem = 10e-6*farad/cm2 * SA # units are farad\n",
    "E_ex = 0*mV\n",
    "E_i = -80*mV \n",
    "v_c = 0*mV\n",
    "I_c = 1000*pamp # same as I_ext, units pamp\n",
    "tau_ge = 200*ms\n",
    "tau_gi_c = 6.8*ms # units of ms\n",
    "integ_method = 'heun'\n",
    "run_time = 100*ms\n",
    "\n",
    "model_0 = '''\n",
    "dv/dt = (1/C_mem)*(ge*(v - E_ex) + gi*(v - E_i) + gL*(v - E_l) + I) : volt (unless refractory)\n",
    "dge/dt = -ge/tau_ge : siemens\n",
    "dgi/dt = -gi/tau_gi : siemens\n",
    "I : ampere\n",
    "tau_gi : second\n",
    "'''\n",
    "\n",
    "model_1 = '''\n",
    "dv/dt = (1/C_mem)*(gL*(v - E_l) + I) : volt (unless refractory)\n",
    "I : ampere\n",
    "'''\n",
    "\n",
    "model_2 = '''\n",
    "dv/dt = (1/C_mem)*(ge*(v - E_ex) + gL*(v - E_l) + I) : volt (unless refractory)\n",
    "ge: siemens\n",
    "I : ampere\n",
    "'''"
   ]
  },
  {
   "cell_type": "code",
   "execution_count": 14,
   "metadata": {},
   "outputs": [
    {
     "name": "stderr",
     "output_type": "stream",
     "text": [
      "WARNING    Came across an abstract code block that may not be well-defined: the outcome may depend on the order of execution. You can ignore this warning if you are sure that the order of operations does not matter. 4 lines of abstract code, first line is: \"_ge_syn := ge_syn * exp(_lio_1 * (- (t - lastupdate))) (constant)\"\n",
      " [brian2.codegen.generators.base]\n"
     ]
    },
    {
     "name": "stdout",
     "output_type": "stream",
     "text": [
      "Missing compiler_cxx fix for MSVCCompiler\n",
      "Missing compiler_cxx fix for MSVCCompiler\n",
      "Missing compiler_cxx fix for MSVCCompiler\n",
      "Missing compiler_cxx fix for MSVCCompiler\n"
     ]
    }
   ],
   "source": [
    "# implementing conductance in the synapse equations\n",
    "# https://brian2.readthedocs.io/en/stable/user/synapses.html?highlight=synapses#summed-variables\n",
    "\n",
    "G3 = NeuronGroup(N, model_2, threshold='v>v_th', reset='v=v_r', refractory=10*ms, method=integ_method)\n",
    "G3.I = I_c\n",
    "G3.ge = 1*psiemens\n",
    "G3.v = v_c\n",
    "statemon3 = StateMonitor(G3, variables='v',record=0)\n",
    "\n",
    "G4 = NeuronGroup(N, model_2, threshold='v>v_th', reset='v=v_r', refractory=10*ms, method=integ_method)\n",
    "G4.I = I_c\n",
    "G4.ge = 1*psiemens\n",
    "G4.v = v_c\n",
    "statemon4 = StateMonitor(G4, variables='v',record=0)\n",
    "\n",
    "S3 = Synapses(G3, G4, \n",
    "              model ='''w : volt\n",
    "              dge_syn/dt = -ge_syn/tau_ge : siemens (event-driven)\n",
    "              ''', on_pre='''v_post += w\n",
    "              ''',on_post = 'ge_post = ge_syn',delay=50*ms)\n",
    "S3.connect(i=0, j=0)\n",
    "# positive weight for an excitatory connection, -ve weight for inhibitory\n",
    "S3.w = 0.5*volt\n",
    "S3.ge_syn = 1*psiemens\n",
    "\n",
    "statemon5 = StateMonitor(S3, variables='ge_syn',record=0)\n",
    "\n",
    "run(run_time)"
   ]
  },
  {
   "cell_type": "code",
   "execution_count": 15,
   "metadata": {},
   "outputs": [
    {
     "data": {
      "text/plain": [
       "[<matplotlib.lines.Line2D at 0xc50c208>]"
      ]
     },
     "execution_count": 15,
     "metadata": {},
     "output_type": "execute_result"
    },
    {
     "data": {
      "image/png": "[encoded data removed]",
      "text/plain": [
       "<matplotlib.figure.Figure at 0xb9a4fd0>"
      ]
     },
     "metadata": {},
     "output_type": "display_data"
    }
   ],
   "source": [
    "plot(statemon3.t,np.transpose(statemon3.v))"
   ]
  },
  {
   "cell_type": "code",
   "execution_count": 16,
   "metadata": {},
   "outputs": [
    {
     "data": {
      "text/plain": [
       "[<matplotlib.lines.Line2D at 0xc5969b0>]"
      ]
     },
     "execution_count": 16,
     "metadata": {},
     "output_type": "execute_result"
    },
    {
     "data": {
      "image/png": "[encoded data removed]",
      "text/plain": [
       "<matplotlib.figure.Figure at 0xc5ebb00>"
      ]
     },
     "metadata": {},
     "output_type": "display_data"
    }
   ],
   "source": [
    "plot(statemon4.t,np.transpose(statemon4.v))"
   ]
  },
  {
   "cell_type": "code",
   "execution_count": 17,
   "metadata": {},
   "outputs": [
    {
     "data": {
      "text/plain": [
       "[<matplotlib.lines.Line2D at 0xc73cba8>]"
      ]
     },
     "execution_count": 17,
     "metadata": {},
     "output_type": "execute_result"
    },
    {
     "data": {
      "image/png": "[encoded data removed]",
      "text/plain": [
       "<matplotlib.figure.Figure at 0xb601fd0>"
      ]
     },
     "metadata": {},
     "output_type": "display_data"
    }
   ],
   "source": [
    "plot(statemon5.t,np.transpose(statemon5.ge_syn))"
   ]
  },
  {
   "cell_type": "code",
   "execution_count": null,
   "metadata": {},
   "outputs": [],
   "source": []
  },
  {
   "cell_type": "code",
   "execution_count": null,
   "metadata": {},
   "outputs": [],
   "source": []
  }
 ],
 "metadata": {
  "kernelspec": {
   "display_name": "Python 2",
   "language": "python",
   "name": "python2"
  },
  "language_info": {
   "codemirror_mode": {
    "name": "ipython",
    "version": 2
   },
   "file_extension": ".py",
   "mimetype": "text/x-python",
   "name": "python",
   "nbconvert_exporter": "python",
   "pygments_lexer": "ipython2",
   "version": "2.7.15"
  }
 },
 "nbformat": 4,
 "nbformat_minor": 2
}
