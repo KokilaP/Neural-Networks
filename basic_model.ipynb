{
 "cells": [
  {
   "cell_type": "markdown",
   "metadata": {},
   "source": [
    "# Basic Model for FPGA"
   ]
  },
  {
   "cell_type": "markdown",
   "metadata": {},
   "source": [
    "### To define 2 neurons and connect them together with a synapse"
   ]
  },
  {
   "cell_type": "code",
   "execution_count": 1,
   "metadata": {},
   "outputs": [],
   "source": [
    "# importing modules\n",
    "\n",
    "from brian2 import *"
   ]
  },
  {
   "cell_type": "code",
   "execution_count": 5,
   "metadata": {},
   "outputs": [],
   "source": [
    "# defining input parameters\n",
    "\n",
    "'''\n",
    "    N: number of neurons\n",
    "    tau_m: time constant (ms)\n",
    "    v_r: reset membrane potential (mv)\n",
    "    v_th: threshold membrane potential (mv)\n",
    "    I_c: external depolarizing current that is constant\n",
    "    run_time: simulation time (ms)\n",
    "    w_couple: synaptic weight in (V) for connections between sub-networks or between different network groups\n",
    "'''\n",
    "\n",
    "N = 1\n",
    "R = 1*ohm # Assumption for cell resistance\n",
    "I_c = 2*amp\n",
    "tau_m = 20.4 #37\n",
    "v_r = 0*volt\n",
    "v_th = 1*volt\n",
    "v_c = 0*volt\n",
    "w_couple = 0.5*volt\n",
    "run_time = 10\n",
    "\n",
    "model_1 = '''                \n",
    "dv/dt = (R*I-v)/tau : volt (unless refractory)\n",
    "I : ampere\n",
    "tau : second\n",
    "'''   "
   ]
  },
  {
   "cell_type": "code",
   "execution_count": 7,
   "metadata": {},
   "outputs": [
    {
     "name": "stdout",
     "output_type": "stream",
     "text": [
      "Missing compiler_cxx fix for MSVCCompiler\n"
     ]
    }
   ],
   "source": [
    "# Creating 2 neuron groups of 1 neuron each \n",
    "G1 = NeuronGroup(N, model_1, threshold='v>v_th', reset='v=v_r', refractory=10*ms, method='linear')\n",
    "G1.v = v_c # initial voltage value defined in input block\n",
    "G1.I = I_c # Constant current define in input block \n",
    "G1.tau = tau_m * ms\n",
    "\n",
    "G2 = NeuronGroup(N, model_1, threshold='v>v_th', reset='v=v_r', refractory=10*ms, method='linear')\n",
    "G2.v = v_c # initial voltage value defined in input block\n",
    "G2.I = I_c # Constant current define in input block \n",
    "G2.tau = tau_m * ms\n",
    "\n",
    "# Coupling both neurons\n",
    "S3 = Synapses(G1,G2, 'w: volt', on_pre='v_post += w')\n",
    "S3.connect()\n",
    "S3.w = w_couple"
   ]
  },
  {
   "cell_type": "code",
   "execution_count": 8,
   "metadata": {},
   "outputs": [
    {
     "name": "stdout",
     "output_type": "stream",
     "text": [
      "Missing compiler_cxx fix for MSVCCompiler\n",
      "Missing compiler_cxx fix for MSVCCompiler\n",
      "Missing compiler_cxx fix for MSVCCompiler\n",
      "Missing compiler_cxx fix for MSVCCompiler\n",
      "Missing compiler_cxx fix for MSVCCompiler\n",
      "Missing compiler_cxx fix for MSVCCompiler\n",
      "Missing compiler_cxx fix for MSVCCompiler\n",
      "Missing compiler_cxx fix for MSVCCompiler\n",
      "Missing compiler_cxx fix for MSVCCompiler\n"
     ]
    }
   ],
   "source": [
    "# Setting up simulation monitors for sanity check\n",
    "    # Use spikemon1.t to see spike times\n",
    "spikemon1 = SpikeMonitor(G1)\n",
    "spikemon2 = SpikeMonitor(G2)\n",
    "\n",
    "# Simulating connected networks\n",
    "run(run_time*ms)"
   ]
  },
  {
   "cell_type": "code",
   "execution_count": 9,
   "metadata": {},
   "outputs": [
    {
     "data": {
      "text/plain": [
       "<spikemonitor_2.t: array([14.1, 38.2, 62.3, 86.4]) * msecond>"
      ]
     },
     "execution_count": 9,
     "metadata": {},
     "output_type": "execute_result"
    }
   ],
   "source": [
    "spikemon1.t"
   ]
  },
  {
   "cell_type": "code",
   "execution_count": null,
   "metadata": {},
   "outputs": [],
   "source": []
  }
 ],
 "metadata": {
  "kernelspec": {
   "display_name": "Python 2",
   "language": "python",
   "name": "python2"
  },
  "language_info": {
   "codemirror_mode": {
    "name": "ipython",
    "version": 2
   },
   "file_extension": ".py",
   "mimetype": "text/x-python",
   "name": "python",
   "nbconvert_exporter": "python",
   "pygments_lexer": "ipython2",
   "version": "2.7.15"
  }
 },
 "nbformat": 4,
 "nbformat_minor": 2
}
